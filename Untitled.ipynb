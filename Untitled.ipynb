{
 "cells": [
  {
   "cell_type": "code",
   "execution_count": 1,
   "id": "c8b1b3f1-192a-4575-965a-6d839dbd3277",
   "metadata": {},
   "outputs": [],
   "source": [
    "#libraries\n",
    "\n",
    "import os"
   ]
  },
  {
   "cell_type": "code",
   "execution_count": 22,
   "id": "7b3a8163-655a-48f2-bb86-a51d976e2e45",
   "metadata": {},
   "outputs": [
    {
     "name": "stdout",
     "output_type": "stream",
     "text": [
      "Requirement already satisfied: numpy in ./lib/python3.10/site-packages (1.24.3)\n",
      "Requirement already satisfied: matplotlib in ./lib/python3.10/site-packages (3.10.6)\n",
      "Requirement already satisfied: contourpy>=1.0.1 in ./lib/python3.10/site-packages (from matplotlib) (1.3.2)\n",
      "Requirement already satisfied: cycler>=0.10 in ./lib/python3.10/site-packages (from matplotlib) (0.12.1)\n",
      "Requirement already satisfied: fonttools>=4.22.0 in ./lib/python3.10/site-packages (from matplotlib) (4.59.2)\n",
      "Requirement already satisfied: kiwisolver>=1.3.1 in ./lib/python3.10/site-packages (from matplotlib) (1.4.9)\n",
      "Requirement already satisfied: numpy>=1.23 in ./lib/python3.10/site-packages (from matplotlib) (1.24.3)\n",
      "Requirement already satisfied: packaging>=20.0 in ./lib/python3.10/site-packages (from matplotlib) (25.0)\n",
      "Requirement already satisfied: pillow>=8 in ./lib/python3.10/site-packages (from matplotlib) (11.3.0)\n",
      "Requirement already satisfied: pyparsing>=2.3.1 in ./lib/python3.10/site-packages (from matplotlib) (3.2.3)\n",
      "Requirement already satisfied: python-dateutil>=2.7 in ./lib/python3.10/site-packages (from matplotlib) (2.9.0.post0)\n",
      "Requirement already satisfied: six>=1.5 in ./lib/python3.10/site-packages (from python-dateutil>=2.7->matplotlib) (1.17.0)\n",
      "Requirement already satisfied: pip in ./lib/python3.10/site-packages (25.2)\n",
      "\u001b[31mERROR: Could not find a version that satisfies the requirement tensorflow==2.10.1 (from versions: 2.13.0rc0, 2.13.0rc1, 2.13.0rc2, 2.13.0, 2.13.1, 2.14.0rc0, 2.14.0rc1, 2.14.0, 2.14.1, 2.15.0rc0, 2.15.0rc1, 2.15.0, 2.15.1, 2.16.0rc0, 2.16.1, 2.16.2, 2.17.0rc0, 2.17.0rc1, 2.17.0, 2.17.1, 2.18.0rc0, 2.18.0rc1, 2.18.0rc2, 2.18.0, 2.18.1, 2.19.0rc0, 2.19.0, 2.19.1, 2.20.0rc0, 2.20.0)\u001b[0m\u001b[31m\n",
      "\u001b[0m\u001b[31mERROR: No matching distribution found for tensorflow==2.10.1\u001b[0m\u001b[31m\n",
      "\u001b[0mRequirement already satisfied: tensorflow_datasets==4.8.3 in ./lib/python3.10/site-packages (4.8.3)\n",
      "Requirement already satisfied: absl-py in ./lib/python3.10/site-packages (from tensorflow_datasets==4.8.3) (2.3.1)\n",
      "Requirement already satisfied: click in ./lib/python3.10/site-packages (from tensorflow_datasets==4.8.3) (8.2.1)\n",
      "Requirement already satisfied: dm-tree in ./lib/python3.10/site-packages (from tensorflow_datasets==4.8.3) (0.1.9)\n",
      "Requirement already satisfied: etils>=0.9.0 in ./lib/python3.10/site-packages (from etils[enp,epath]>=0.9.0->tensorflow_datasets==4.8.3) (1.13.0)\n",
      "Requirement already satisfied: numpy in ./lib/python3.10/site-packages (from tensorflow_datasets==4.8.3) (1.24.3)\n",
      "Requirement already satisfied: promise in ./lib/python3.10/site-packages (from tensorflow_datasets==4.8.3) (2.3)\n",
      "Requirement already satisfied: protobuf>=3.12.2 in ./lib/python3.10/site-packages (from tensorflow_datasets==4.8.3) (4.21.12)\n",
      "Requirement already satisfied: psutil in ./lib/python3.10/site-packages (from tensorflow_datasets==4.8.3) (7.0.0)\n",
      "Requirement already satisfied: requests>=2.19.0 in ./lib/python3.10/site-packages (from tensorflow_datasets==4.8.3) (2.32.5)\n",
      "Requirement already satisfied: tensorflow-metadata in ./lib/python3.10/site-packages (from tensorflow_datasets==4.8.3) (1.17.2)\n",
      "Requirement already satisfied: termcolor in ./lib/python3.10/site-packages (from tensorflow_datasets==4.8.3) (3.1.0)\n",
      "Requirement already satisfied: toml in ./lib/python3.10/site-packages (from tensorflow_datasets==4.8.3) (0.10.2)\n",
      "Requirement already satisfied: tqdm in ./lib/python3.10/site-packages (from tensorflow_datasets==4.8.3) (4.67.1)\n",
      "Requirement already satisfied: wrapt in ./lib/python3.10/site-packages (from tensorflow_datasets==4.8.3) (1.17.3)\n",
      "Requirement already satisfied: fsspec in ./lib/python3.10/site-packages (from etils[enp,epath]>=0.9.0->tensorflow_datasets==4.8.3) (2025.9.0)\n",
      "Requirement already satisfied: importlib_resources in ./lib/python3.10/site-packages (from etils[enp,epath]>=0.9.0->tensorflow_datasets==4.8.3) (6.5.2)\n",
      "Requirement already satisfied: typing_extensions in ./lib/python3.10/site-packages (from etils[enp,epath]>=0.9.0->tensorflow_datasets==4.8.3) (4.5.0)\n",
      "Requirement already satisfied: zipp in ./lib/python3.10/site-packages (from etils[enp,epath]>=0.9.0->tensorflow_datasets==4.8.3) (3.23.0)\n",
      "Requirement already satisfied: einops in ./lib/python3.10/site-packages (from etils[enp,epath]>=0.9.0->tensorflow_datasets==4.8.3) (0.8.1)\n",
      "Requirement already satisfied: charset_normalizer<4,>=2 in ./lib/python3.10/site-packages (from requests>=2.19.0->tensorflow_datasets==4.8.3) (3.4.3)\n",
      "Requirement already satisfied: idna<4,>=2.5 in ./lib/python3.10/site-packages (from requests>=2.19.0->tensorflow_datasets==4.8.3) (3.10)\n",
      "Requirement already satisfied: urllib3<3,>=1.21.1 in ./lib/python3.10/site-packages (from requests>=2.19.0->tensorflow_datasets==4.8.3) (2.5.0)\n",
      "Requirement already satisfied: certifi>=2017.4.17 in ./lib/python3.10/site-packages (from requests>=2.19.0->tensorflow_datasets==4.8.3) (2025.8.3)\n",
      "Requirement already satisfied: attrs>=18.2.0 in ./lib/python3.10/site-packages (from dm-tree->tensorflow_datasets==4.8.3) (25.3.0)\n",
      "Requirement already satisfied: six in ./lib/python3.10/site-packages (from promise->tensorflow_datasets==4.8.3) (1.17.0)\n"
     ]
    }
   ],
   "source": [
    "!pip install numpy\n",
    "!pip install matplotlib\n",
    "!pip install --upgrade pip\n",
    "!pip install tensorflow==2.10.1\n",
    "!pip install tensorflow_datasets==4.8.3"
   ]
  },
  {
   "cell_type": "code",
   "execution_count": 24,
   "id": "e9f48bb0-b890-4165-9db1-4a80b10a9893",
   "metadata": {},
   "outputs": [],
   "source": [
    "import numpy as np\n",
    "import matplotlib.pyplot as plt\n",
    "import PIL.Image, PIL.ImageFont, PIL.ImageDraw\n",
    "import tensorflow as tf\n",
    "import tensorflow_datasets as tfds"
   ]
  },
  {
   "cell_type": "code",
   "execution_count": 25,
   "id": "678bf178-06e0-422a-91ef-4b9c429de7e6",
   "metadata": {},
   "outputs": [],
   "source": [
    "im_width = 75\n",
    "im_height = 75\n",
    "use_normalized_coordinates = True"
   ]
  },
  {
   "cell_type": "code",
   "execution_count": 26,
   "id": "d3923ff0-544a-4a3b-a10e-95b804a518af",
   "metadata": {},
   "outputs": [],
   "source": [
    "def draw_bounding_boxes_on_image_array(image, boxes,color=[],thickness=1,display_str_list=()):\n",
    "    image_pil = PIL.Image.formarray(image)\n",
    "    rgbimg = PIL.Image.new(\"RGBA\", image_pil.size)\n",
    "    rgbimg.paste(image_pil)\n",
    "    draw_bounding_boxes_on_image(rgbimg, boxes,color,thickness,display_str_list)\n",
    "    return np.array(rgbimg)\n",
    "\n",
    "def draw_bounding_boxes_on_image(image, boxes,color=[],thickness=1,display_str_list=()):\n",
    "    boxes_shape = boxes.shape\n",
    "    if not boxes_shape:\n",
    "        return\n",
    "    if len(boxes_shape) != 2 or boxes_shape[1] != 4:\n",
    "        raise ValueError('Input must be of size [N,4]')\n",
    "    for i in range(boxes_shape[0]):\n",
    "        draw_bounding_box_on_image(image, boxes[i,1], boxes[i,0], boxes[i,3], boxes[i,2], color[i],thickness, display_str_list[i])\n",
    "\n",
    "def draw_bounding_box_on_image(image, ymin, xmin, ymax, xmax,color='red',thickness=1,display_str_list = None,use_normalized_coordinates = True):\n",
    "    draw = PIL.ImageDraw.Draw(image)\n",
    "    im_width, im_height = image.size\n",
    "    if use_normalized_coordinates:\n",
    "        (left, right, top, bottom) = (xmin * im_width, xmax * im_widht,\n",
    "                                      ymin * im_height, ymax * im_height)\n",
    "    else:\n",
    "        (left, right, top, bottom) = (xmin, xmax, ymin, ymax)\n",
    "\n",
    "    draw.line([(left, top), (left,bottom), (right,bottom),\n",
    "               (right, top), (left, top)], width=thickness, fill=color)\n",
    "        \n",
    "    "
   ]
  },
  {
   "cell_type": "code",
   "execution_count": 27,
   "id": "fb29929b-906b-408f-9e68-25afd23a702e",
   "metadata": {},
   "outputs": [],
   "source": [
    "def dataset_to_numpy_util(training_dataset, validation_dataset, N):\n",
    "    batch_train_ds = training_dataset.unbatch().batch(N)\n",
    "\n",
    "    if tf.executing_eagerly():\n",
    "        for validation_digits, (validation_labels, validation_bboxes) in validation_dataset:\n",
    "            validation_digits = validation_digits.numpy()\n",
    "            validation_labels = validation_labels.numpy()\n",
    "            validation_bboxes = validation_bboxes.numpy()\n",
    "            break\n",
    "        for training_digits, (training_labels, training_bboxes) in training_dataset:\n",
    "            training_digits = training_digits.numpy()\n",
    "            training_labels = training_labels.numpy()\n",
    "            training_bboxes = training_bboxes.numpy()\n",
    "\n",
    "    validation_labels = np.argmax(validation_labels, axis =b1)\n",
    "    training_labels = np.argmax(training_labels, axis = 1)\n",
    "    return (training_digits, training_labels, training_bboxes,\n",
    "            validation_digits, validation_labels, validation_bboxes)"
   ]
  },
  {
   "cell_type": "code",
   "execution_count": 28,
   "id": "69027bc3-e808-416d-b780-9ebe2ecf1056",
   "metadata": {},
   "outputs": [],
   "source": [
    "MATPLOTLIB_FONT_DIR = os.path.join(os.path.dirname(plt.__file__), \"mlp-data/fonts/ttf\")\n",
    "def create_digits_from_local_fonts(n):\n",
    "    font_labels = []\n",
    "    img = PIL.Image.new('LA', (75*n, 75), color = (0,255))\n",
    "    font1 = PIL.ImageFont.truetype(os.path.join(MATPLOTLIB_FONT_DIR, 'DejaVuSansMono-Oblique.ttf'), 25)\n",
    "    font2 = PIL.ImageFomt.trueType(os.path.join(MATPLOTLIB_FONT_DIR, 'STIXGeneral.ttf'), 25)\n",
    "    d = PIL.ImageDraw.Draw(img)\n",
    "    for i in range(n):\n",
    "        font_labels.append(i%10)\n",
    "        d.text((7+i*75, 0 if i < 10 else -4), str(i%10), fill=(255,255), font= font1 if i < 10 else font2)\n",
    "    font_digits = np.array(img.getdata(), np.float32)[:0]/ 255.0\n",
    "    font_digits = np.reshape(np.stack(np.split(np.rashape(font_digits, [75, 75*n]), n , axis=1), axis = 0) [n, 75*75])\n",
    "    return font_digits, font_labels"
   ]
  },
  {
   "cell_type": "code",
   "execution_count": 29,
   "id": "cb9bc06c-a29f-4a4f-9d7f-f338d89f4240",
   "metadata": {},
   "outputs": [],
   "source": [
    "def display_digits_with_boxes(digits, predictions, labels, pred_bboxes, bboxes, iou, title):\n",
    "\n",
    "    n = 3\n",
    "\n",
    "    indexes = np.random.choice(len(predictions), size = n)\n",
    "    n_digitd = digits[indexes]\n",
    "    n_predictions = predictions[indexes]\n",
    "    n_labels = labels[indexes]\n",
    "\n",
    "    n_iou = []\n",
    "    if len(iou) > 0:\n",
    "        n_iou = iou[indexes]\n",
    "\n",
    "    if len(pred_bboxes) > 0:\n",
    "        n_pred_bboxes = pred_bboxes[indexes]\n",
    "\n",
    "    if len(bboxes) > 0:\n",
    "        n_bboxes = bboxes[indexes]\n",
    "\n",
    "    n_digits = n_digits * 255.0\n",
    "    n_digits = n_digits.reshape(n, 75, 75)\n",
    "    fig = plt.figure(figsize=(20,4))\n",
    "    plt.title(title)\n",
    "    plt.xticks([])\n",
    "    plt.yticks([])\n",
    "\n",
    "    for i in range(n):\n",
    "        ax = fig.add_subplot(1,n, i+1)\n",
    "        bboxes_to_plot = []\n",
    "        if (len(pred_bboxes) > i):\n",
    "            bboxes_to_plot.append(n_pred_bboxes[i])\n",
    "\n",
    "        if (len(bboxes) > i):\n",
    "            bboxes_to_plot.append(n_bboxes[i])\n",
    "\n",
    "        img_to_draw = draw_bounding_boxes_on_image_array(image=n_digits[i],boxes=np.asarray(bboxes_to_plot),color=['red','green'],display_str_list=[\"True\", 'Pred'])\n",
    "        plt.xlabel(n_prediction[i])\n",
    "        plt.xticks([])\n",
    "        plt.yticks([])\n",
    "\n",
    "        if n_predictions[i] != n_labels[i]:\n",
    "            ax.xais.label.set_color('red')\n",
    "\n",
    "            plt.imshow(img_to_draw)\n",
    "\n",
    "            if len(iou) > i:\n",
    "                color = \"black\"\n",
    "                if (n_iou[i][0] < iou_threshold):\n",
    "                    color = \"red\"\n",
    "                ax.text(0.2, -0.3, \"iou: %s\" %(n_iou[i][0]), color, transform=ax.transAxes)"
   ]
  },
  {
   "cell_type": "code",
   "execution_count": 30,
   "id": "ddba938d-362a-4cc4-a1d6-eb194a338bf0",
   "metadata": {},
   "outputs": [],
   "source": [
    "def plot_metrics(metric_name, title):\n",
    "    plt.title(title)\n",
    "    plt.plot(history.history[metric_name], color='blue', label = metric_name)\n",
    "    plt.plot(history.history['val_' + metric_name], color='green' , label = 'val_' + metric_name)"
   ]
  },
  {
   "cell_type": "code",
   "execution_count": null,
   "id": "5d868909-671f-430c-8d92-60d443f43829",
   "metadata": {},
   "outputs": [],
   "source": [
    "import tensorflow as tf\n",
    "print(tf.__version__)\n",
    "print(tf.__file__)"
   ]
  },
  {
   "cell_type": "code",
   "execution_count": null,
   "id": "529c8292-8dda-4607-a836-aff81c5e311f",
   "metadata": {},
   "outputs": [],
   "source": [
    "#loading and preprocessing the dataset\n",
    "\n",
    "strategy = tf.distribute.get_strategy()\n",
    "strategy.num_replicas_in_sync"
   ]
  },
  {
   "cell_type": "code",
   "execution_count": 32,
   "id": "17603b7b-04be-4145-83e2-8150aed19c9a",
   "metadata": {},
   "outputs": [
    {
     "ename": "NameError",
     "evalue": "name 'strategy' is not defined",
     "output_type": "error",
     "traceback": [
      "\u001b[0;31m---------------------------------------------------------------------------\u001b[0m",
      "\u001b[0;31mNameError\u001b[0m                                 Traceback (most recent call last)",
      "Cell \u001b[0;32mIn[32], line 1\u001b[0m\n\u001b[0;32m----> 1\u001b[0m BATCH_SIZE \u001b[38;5;241m=\u001b[39m \u001b[38;5;241m64\u001b[39m \u001b[38;5;241m*\u001b[39m \u001b[43mstrategy\u001b[49m\u001b[38;5;241m.\u001b[39mnum_replicas_in_sync\n",
      "\u001b[0;31mNameError\u001b[0m: name 'strategy' is not defined"
     ]
    }
   ],
   "source": [
    "BATCH_SIZE = 64 * strategy.num_replicas_in_sync"
   ]
  },
  {
   "cell_type": "code",
   "execution_count": 33,
   "id": "0563c2f6-821d-4d48-98ac-ee8ea30ba959",
   "metadata": {},
   "outputs": [],
   "source": [
    "def read_image_tfds(image, label):\n",
    "    xmin = tf.random.uniform((), 0, 48, dtype=tf.int32)\n",
    "    ymin = tf.random.uniform((), 0, 48, dtype=tf.int32)\n",
    "    image = tf.reshape(image, (28,28,1,))\n",
    "    image = tf.image.pad_to_bounding_box(image, ymin, xmin, 75, 75)\n",
    "    image = tf.cast(image, tf.float32) / 255.0\n",
    "    xmin = tf.cast(xmin, tf.float32)\n",
    "    ymin = tf.cast(ymin, tf.float32)\n",
    "\n",
    "    xmax = (xmin + 28) / 75\n",
    "    ymax = (ymin + 28) / 75\n",
    "    xmin = xmin / 75\n",
    "    ymin = ymin / 75\n",
    "\n",
    "    return image, (tf.one_hot(label, 10), [xmin, ymin, xmax, ymax])"
   ]
  },
  {
   "cell_type": "code",
   "execution_count": 34,
   "id": "94695d2b-8675-4bcb-9b5e-d1c8f19bacd6",
   "metadata": {},
   "outputs": [],
   "source": [
    "def get_training_dataset():\n",
    "\n",
    "    with strategy.scope():\n",
    "        dataset = tfds.load(\"mnist\", split=\"train\", as_supervised=True, try_gcs=True)\n",
    "        dataset = dataset.map(read_image_tfds, num_parallel_calls = 16)\n",
    "        dataset = dataset.shuffle(5000, reshuffle_each_iteration = True)\n",
    "        dataset = dataset.repeat()\n",
    "        datset = dataset.batch(BATCH_SIZE, drop_remainder = True)\n",
    "        dataset = dataset.prefetch(-1)\n",
    "    return dataset"
   ]
  },
  {
   "cell_type": "code",
   "execution_count": 35,
   "id": "da622532-0e76-4ff2-9972-4f2a86be4ca0",
   "metadata": {},
   "outputs": [],
   "source": [
    "def get_validation_dataset():\n",
    "\n",
    "    with strategy.scope():\n",
    "        dataset = tfds.load(\"mnist\", split=\"train\", as_supervised=True, try_gcs=True)\n",
    "        dataset = dataset.map(read_image_tfds, num_parallel_calls = 16)\n",
    "        dataset = dataset.batch(10000, drop_remainder = True)\n",
    "        dataset = dataset.repeat()\n",
    "    return dataset"
   ]
  },
  {
   "cell_type": "code",
   "execution_count": 36,
   "id": "77490af8-bf7b-4bf5-88d8-e832786d3352",
   "metadata": {},
   "outputs": [
    {
     "ename": "NameError",
     "evalue": "name 'strategy' is not defined",
     "output_type": "error",
     "traceback": [
      "\u001b[0;31m---------------------------------------------------------------------------\u001b[0m",
      "\u001b[0;31mNameError\u001b[0m                                 Traceback (most recent call last)",
      "Cell \u001b[0;32mIn[36], line 1\u001b[0m\n\u001b[0;32m----> 1\u001b[0m \u001b[38;5;28;01mwith\u001b[39;00m \u001b[43mstrategy\u001b[49m\u001b[38;5;241m.\u001b[39mscope():\n\u001b[1;32m      2\u001b[0m     training_dataset \u001b[38;5;241m=\u001b[39m get_training_dataset()\n\u001b[1;32m      3\u001b[0m     validation_dataset \u001b[38;5;241m=\u001b[39m get_validation_dataset()\n",
      "\u001b[0;31mNameError\u001b[0m: name 'strategy' is not defined"
     ]
    }
   ],
   "source": [
    "with strategy.scope():\n",
    "    training_dataset = get_training_dataset()\n",
    "    validation_dataset = get_validation_dataset()"
   ]
  },
  {
   "cell_type": "code",
   "execution_count": 38,
   "id": "56a5b37d-c926-40b6-86e1-3c5b9ec2f882",
   "metadata": {},
   "outputs": [
    {
     "name": "stdout",
     "output_type": "stream",
     "text": [
      "\u001b[34mbin\u001b[m\u001b[m            \u001b[34minclude\u001b[m\u001b[m        pyvenv.cfg     Untitled.ipynb\n",
      "\u001b[34metc\u001b[m\u001b[m            \u001b[34mlib\u001b[m\u001b[m            \u001b[34mshare\u001b[m\u001b[m\n"
     ]
    }
   ],
   "source": [
    "!ls"
   ]
  },
  {
   "cell_type": "code",
   "execution_count": null,
   "id": "f93a721f-6f77-4ac3-a072-b17172644493",
   "metadata": {},
   "outputs": [],
   "source": [
    "!pws"
   ]
  },
  {
   "cell_type": "code",
   "execution_count": null,
   "id": "c6268b9d-701f-42be-ba41-41e56b578c8b",
   "metadata": {},
   "outputs": [],
   "source": []
  }
 ],
 "metadata": {
  "kernelspec": {
   "display_name": "Python 3 (ipykernel)",
   "language": "python",
   "name": "python3"
  },
  "language_info": {
   "codemirror_mode": {
    "name": "ipython",
    "version": 3
   },
   "file_extension": ".py",
   "mimetype": "text/x-python",
   "name": "python",
   "nbconvert_exporter": "python",
   "pygments_lexer": "ipython3",
   "version": "3.10.11"
  }
 },
 "nbformat": 4,
 "nbformat_minor": 5
}
